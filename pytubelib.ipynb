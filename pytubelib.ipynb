{
  "nbformat": 4,
  "nbformat_minor": 0,
  "metadata": {
    "colab": {
      "name": "pytubelib.ipynb",
      "provenance": [],
      "collapsed_sections": [],
      "authorship_tag": "ABX9TyMH2b2N9X+lbo7Ji4HdCMH1",
      "include_colab_link": true
    },
    "kernelspec": {
      "name": "python3",
      "display_name": "Python 3"
    },
    "language_info": {
      "name": "python"
    }
  },
  "cells": [
    {
      "cell_type": "markdown",
      "metadata": {
        "id": "view-in-github",
        "colab_type": "text"
      },
      "source": [
        "<a href=\"https://colab.research.google.com/github/nidhi-jain-12/Python-Essentials/blob/Main/pytubelib.ipynb\" target=\"_parent\"><img src=\"https://colab.research.google.com/assets/colab-badge.svg\" alt=\"Open In Colab\"/></a>"
      ]
    },
    {
      "cell_type": "code",
      "metadata": {
        "id": "WwJPMatkZdWW"
      },
      "source": [
        "#build youtube video downloader app using library in python refer pypi.org"
      ],
      "execution_count": null,
      "outputs": []
    },
    {
      "cell_type": "code",
      "metadata": {
        "id": "FrGkHp4GaGa8"
      },
      "source": [
        "#pytube library in python to download youtube video"
      ],
      "execution_count": null,
      "outputs": []
    },
    {
      "cell_type": "code",
      "metadata": {
        "colab": {
          "base_uri": "https://localhost:8080/"
        },
        "id": "JvFQtjIgZ550",
        "outputId": "7ddec2b3-48ff-4556-a7b7-fe2ee9c86924"
      },
      "source": [
        "pip install pytube"
      ],
      "execution_count": 2,
      "outputs": [
        {
          "output_type": "stream",
          "text": [
            "Collecting pytube\n",
            "\u001b[?25l  Downloading https://files.pythonhosted.org/packages/53/6d/39117bd1668bcd44c10c021624def85268d3dfd811b17cad6c59f5c2533a/pytube-10.9.0-py3-none-any.whl (51kB)\n",
            "\r\u001b[K     |██████▎                         | 10kB 13.1MB/s eta 0:00:01\r\u001b[K     |████████████▋                   | 20kB 18.8MB/s eta 0:00:01\r\u001b[K     |███████████████████             | 30kB 17.1MB/s eta 0:00:01\r\u001b[K     |█████████████████████████▎      | 40kB 14.9MB/s eta 0:00:01\r\u001b[K     |███████████████████████████████▌| 51kB 8.0MB/s eta 0:00:01\r\u001b[K     |████████████████████████████████| 61kB 4.4MB/s \n",
            "\u001b[?25hInstalling collected packages: pytube\n",
            "Successfully installed pytube-10.9.0\n"
          ],
          "name": "stdout"
        }
      ]
    },
    {
      "cell_type": "code",
      "metadata": {
        "id": "xghyYp-GZ6ah",
        "colab": {
          "base_uri": "https://localhost:8080/"
        },
        "outputId": "76133390-f1db-4ad8-a712-a47fdc448a96"
      },
      "source": [
        "from pytube import YouTube\n",
        "\n",
        "#ask for the link from user\n",
        "link = input(\"Enter the link of YouTube video you want to download:  \")\n",
        "yt = YouTube(link)\n",
        "\n",
        "#Showing details\n",
        "print(\"Title: \",yt.title)\n",
        "print(\"Number of views: \",yt.views)\n",
        "print(\"Length of video: \",yt.length)\n",
        "print(\"Rating of video: \",yt.rating)\n",
        "#Getting the highest resolution possible\n",
        "ys = yt.streams.get_highest_resolution()\n",
        "\n",
        "#Starting download\n",
        "print(\"Downloading...\")\n",
        "ys.download()\n",
        "print(\"Download completed!!\")"
      ],
      "execution_count": 3,
      "outputs": [
        {
          "output_type": "stream",
          "text": [
            "Enter the link of YouTube video you want to download:   https://youtu.be/KGE0x5dIpxA\n",
            "Title:  I Will Guess Your Name In One Minute!\n",
            "Number of views:  23877711\n",
            "Length of video:  166\n",
            "Rating of video:  2.9804056\n",
            "Downloading...\n",
            "Download completed!!\n"
          ],
          "name": "stdout"
        }
      ]
    },
    {
      "cell_type": "code",
      "metadata": {
        "id": "t1d7njiiZ_ND"
      },
      "source": [
        ""
      ],
      "execution_count": null,
      "outputs": []
    }
  ]
}