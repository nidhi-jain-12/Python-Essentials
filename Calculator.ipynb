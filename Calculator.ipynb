{
  "nbformat": 4,
  "nbformat_minor": 0,
  "metadata": {
    "colab": {
      "name": "Calculator.ipynb",
      "provenance": [],
      "collapsed_sections": [],
      "authorship_tag": "ABX9TyOeC7B08MalD/46g66t6UlY",
      "include_colab_link": true
    },
    "kernelspec": {
      "name": "python3",
      "display_name": "Python 3"
    },
    "language_info": {
      "name": "python"
    }
  },
  "cells": [
    {
      "cell_type": "markdown",
      "metadata": {
        "id": "view-in-github",
        "colab_type": "text"
      },
      "source": [
        "<a href=\"https://colab.research.google.com/github/nidhi-jain-12/Python-Essentials/blob/Main/Calculator.ipynb\" target=\"_parent\"><img src=\"https://colab.research.google.com/assets/colab-badge.svg\" alt=\"Open In Colab\"/></a>"
      ]
    },
    {
      "cell_type": "code",
      "metadata": {
        "id": "D1MzhJxgdxhx"
      },
      "source": [
        "#Calculator in python"
      ],
      "execution_count": 1,
      "outputs": []
    },
    {
      "cell_type": "code",
      "metadata": {
        "colab": {
          "base_uri": "https://localhost:8080/"
        },
        "id": "iP2iml2oeATB",
        "outputId": "98829fe6-2b59-48fa-a162-5f036c00b920"
      },
      "source": [
        "a=int(input(\"Enter first number : \"))\n",
        "b=int(input(\"Enter second number : \"))\n",
        "sum = a+b\n",
        "sub = a-b\n",
        "mul = a*b\n",
        "#integer division\n",
        "div1 = a//b\n",
        "#floating point division\n",
        "div2=a/b\n",
        "print(\"\\n Addition is \",sum)\n",
        "print(\"\\n Subtraction is \",sub)\n",
        "print(\"\\n Multiplication is \",mul)\n",
        "print(\"\\n Integer division is \",div1)\n",
        "print(\"\\n Floating division is \",div2)"
      ],
      "execution_count": 2,
      "outputs": [
        {
          "output_type": "stream",
          "text": [
            "Enter first number : 30\n",
            "Enter second number : 15\n",
            "\n",
            " Addition is  45\n",
            "\n",
            " Subtraction is  15\n",
            "\n",
            " Multiplication is  450\n",
            "\n",
            " Integer division is  2\n",
            "\n",
            " Floating division is  2.0\n"
          ],
          "name": "stdout"
        }
      ]
    },
    {
      "cell_type": "code",
      "metadata": {
        "id": "84AndFKveJFf"
      },
      "source": [
        ""
      ],
      "execution_count": null,
      "outputs": []
    }
  ]
}