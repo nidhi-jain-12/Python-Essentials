{
  "nbformat": 4,
  "nbformat_minor": 0,
  "metadata": {
    "colab": {
      "name": "planeland.ipynb",
      "provenance": [],
      "collapsed_sections": [],
      "authorship_tag": "ABX9TyNNIdpEtFCXZXsMGDdJmOyd",
      "include_colab_link": true
    },
    "kernelspec": {
      "name": "python3",
      "display_name": "Python 3"
    },
    "language_info": {
      "name": "python"
    }
  },
  "cells": [
    {
      "cell_type": "markdown",
      "metadata": {
        "id": "view-in-github",
        "colab_type": "text"
      },
      "source": [
        "<a href=\"https://colab.research.google.com/github/nidhi-jain-12/Python-Essentials/blob/Main/planeland.ipynb\" target=\"_parent\"><img src=\"https://colab.research.google.com/assets/colab-badge.svg\" alt=\"Open In Colab\"/></a>"
      ]
    },
    {
      "cell_type": "code",
      "metadata": {
        "id": "3cFL2qEgPIJh"
      },
      "source": [
        "# You all are pilots, you have to land a plane, the altitude required for landing a plane is 1000ft, \n",
        "# if it is less than that tell pilot to land the plane, or it is more than that but less than 5000ft\n",
        "# task the pilot to “come down to 1000ft”, else if it is more than 5000ft ask the pilot to “go around and try later”"
      ],
      "execution_count": 1,
      "outputs": []
    },
    {
      "cell_type": "code",
      "metadata": {
        "colab": {
          "base_uri": "https://localhost:8080/"
        },
        "id": "urGL_YGRQELY",
        "outputId": "861ba307-72da-43f2-e2bb-9745e9dca2ec"
      },
      "source": [
        "altitude = int(input(\"Enter the current altitude : \"))\n",
        "if altitude <= 1000 :\n",
        "  print(\" Safe to land \")\n",
        "elif altitude > 1000 and altitude < 5000:\n",
        "  print(\" Come down to 1000 ft \")\n",
        "else:\n",
        "  print(\" Go around and try later \")\n"
      ],
      "execution_count": 2,
      "outputs": [
        {
          "output_type": "stream",
          "text": [
            "Enter the current altitude : 2500\n",
            " Come down to 1000 ft \n"
          ],
          "name": "stdout"
        }
      ]
    }
  ]
}