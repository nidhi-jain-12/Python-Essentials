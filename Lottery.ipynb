{
  "nbformat": 4,
  "nbformat_minor": 0,
  "metadata": {
    "colab": {
      "name": "Lottery.ipynb",
      "provenance": [],
      "collapsed_sections": [],
      "authorship_tag": "ABX9TyMypKx0Zd/Kla5i/wYZFhQM",
      "include_colab_link": true
    },
    "kernelspec": {
      "name": "python3",
      "display_name": "Python 3"
    },
    "language_info": {
      "name": "python"
    }
  },
  "cells": [
    {
      "cell_type": "markdown",
      "metadata": {
        "id": "view-in-github",
        "colab_type": "text"
      },
      "source": [
        "<a href=\"https://colab.research.google.com/github/nidhi-jain-12/Python-Essentials/blob/Main/Lottery.ipynb\" target=\"_parent\"><img src=\"https://colab.research.google.com/assets/colab-badge.svg\" alt=\"Open In Colab\"/></a>"
      ]
    },
    {
      "cell_type": "code",
      "metadata": {
        "id": "u5D2uh1ZcQhj"
      },
      "source": [
        "#Lottery in Python"
      ],
      "execution_count": 1,
      "outputs": []
    },
    {
      "cell_type": "code",
      "metadata": {
        "colab": {
          "base_uri": "https://localhost:8080/"
        },
        "id": "q12ZMGZedBAo",
        "outputId": "6df0a0f3-8e7c-45b5-9e3a-3a2f4c04fd0e"
      },
      "source": [
        "maxParticipant = int(input(\"Enter number of Tickets available for participant : \"))\n",
        "import random\n",
        "n=[]\n",
        "for i in range(maxParticipant):\n",
        "    n=str(input(\"Enter name of participants: \"))\n",
        "a=(random.randint(0,maxParticipant-1))\n",
        "print(\"The Winner of Lottery is: \",n)"
      ],
      "execution_count": 2,
      "outputs": [
        {
          "output_type": "stream",
          "text": [
            "Enter number of Tickets available for participant : 4\n",
            "Enter name of participants: Nidhi\n",
            "Enter name of participants: Samkit\n",
            "Enter name of participants: Avni\n",
            "Enter name of participants: Ram\n",
            "The Winner of Lottery is:  Ram\n"
          ],
          "name": "stdout"
        }
      ]
    },
    {
      "cell_type": "code",
      "metadata": {
        "id": "D6i9qHszdEvJ"
      },
      "source": [
        ""
      ],
      "execution_count": 2,
      "outputs": []
    }
  ]
}