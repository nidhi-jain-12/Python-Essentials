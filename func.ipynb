{
  "nbformat": 4,
  "nbformat_minor": 0,
  "metadata": {
    "colab": {
      "name": "func.ipynb",
      "provenance": [],
      "collapsed_sections": [],
      "authorship_tag": "ABX9TyP5gvOIRxI+EwCheB6yAfIH",
      "include_colab_link": true
    },
    "kernelspec": {
      "name": "python3",
      "display_name": "Python 3"
    },
    "language_info": {
      "name": "python"
    }
  },
  "cells": [
    {
      "cell_type": "markdown",
      "metadata": {
        "id": "view-in-github",
        "colab_type": "text"
      },
      "source": [
        "<a href=\"https://colab.research.google.com/github/nidhi-jain-12/Python-Essentials/blob/Main/func.ipynb\" target=\"_parent\"><img src=\"https://colab.research.google.com/assets/colab-badge.svg\" alt=\"Open In Colab\"/></a>"
      ]
    },
    {
      "cell_type": "code",
      "metadata": {
        "id": "P89pyhKk8XwN"
      },
      "source": [
        "#build a function in python for finding number is prime or not\n",
        "#A prime number is a natural number greater than 1 and \n",
        "#that has no positive divisors other than 1 and itself.\n"
      ],
      "execution_count": null,
      "outputs": []
    },
    {
      "cell_type": "code",
      "metadata": {
        "id": "xGaOm_LF86R_"
      },
      "source": [
        "#function\n",
        "def checkPrimeNum(num):\n",
        "  if num > 1:\n",
        "   \n",
        "    for i in range(2,num):\n",
        "   \n",
        "       if (num % i) == 0:\n",
        "           print(num,\"is not a prime number\")\n",
        "           break\n",
        "   \n",
        "       else:\n",
        "           print(num,\"is a prime number\")\n",
        "           break\n",
        "\n",
        "  else:\n",
        "     print(num,\"is not a prime number\")"
      ],
      "execution_count": 37,
      "outputs": []
    },
    {
      "cell_type": "code",
      "metadata": {
        "colab": {
          "base_uri": "https://localhost:8080/"
        },
        "id": "NxatGEeM-_Sb",
        "outputId": "e065e906-7785-4cc9-a254-7ff86749168e"
      },
      "source": [
        "checkPrimeNum(8)"
      ],
      "execution_count": 42,
      "outputs": [
        {
          "output_type": "stream",
          "text": [
            "8 is not a prime number\n"
          ],
          "name": "stdout"
        }
      ]
    },
    {
      "cell_type": "code",
      "metadata": {
        "colab": {
          "base_uri": "https://localhost:8080/"
        },
        "id": "K73I37km_L96",
        "outputId": "88f5602d-f20a-4c46-9ae5-625def53f7fe"
      },
      "source": [
        "checkPrimeNum(1)"
      ],
      "execution_count": 40,
      "outputs": [
        {
          "output_type": "stream",
          "text": [
            "1 is not a prime number\n"
          ],
          "name": "stdout"
        }
      ]
    },
    {
      "cell_type": "code",
      "metadata": {
        "colab": {
          "base_uri": "https://localhost:8080/"
        },
        "id": "4Twk62TDEOKx",
        "outputId": "5908ad09-dc58-4779-fb60-ca8d895b2f20"
      },
      "source": [
        "checkPrimeNum(7)"
      ],
      "execution_count": 39,
      "outputs": [
        {
          "output_type": "stream",
          "text": [
            "7 is a prime number\n"
          ],
          "name": "stdout"
        }
      ]
    },
    {
      "cell_type": "code",
      "metadata": {
        "colab": {
          "base_uri": "https://localhost:8080/"
        },
        "id": "LG3uyMBzEP1z",
        "outputId": "a6d04e32-628f-4108-bcc5-9b8fce7daa79"
      },
      "source": [
        "checkPrimeNum(90)    "
      ],
      "execution_count": 41,
      "outputs": [
        {
          "output_type": "stream",
          "text": [
            "90 is not a prime number\n"
          ],
          "name": "stdout"
        }
      ]
    },
    {
      "cell_type": "code",
      "metadata": {
        "colab": {
          "base_uri": "https://localhost:8080/"
        },
        "id": "x0naE9JuER2M",
        "outputId": "92c9c524-43d4-47a6-f954-5337f2ee3b29"
      },
      "source": [
        "checkPrimeNum(12648345793824027)"
      ],
      "execution_count": 38,
      "outputs": [
        {
          "output_type": "stream",
          "text": [
            "12648345793824027 is a prime number\n"
          ],
          "name": "stdout"
        }
      ]
    },
    {
      "cell_type": "code",
      "metadata": {
        "colab": {
          "base_uri": "https://localhost:8080/"
        },
        "id": "8iVSYJITE79L",
        "outputId": "b09320f7-0b5c-4678-bb05-ba92e835fa78"
      },
      "source": [
        "checkPrimeNum(-9)"
      ],
      "execution_count": 36,
      "outputs": [
        {
          "output_type": "stream",
          "text": [
            "-9 is not a prime number\n"
          ],
          "name": "stdout"
        }
      ]
    },
    {
      "cell_type": "code",
      "metadata": {
        "id": "tovaWMwifhYT"
      },
      "source": [
        ""
      ],
      "execution_count": null,
      "outputs": []
    }
  ]
}