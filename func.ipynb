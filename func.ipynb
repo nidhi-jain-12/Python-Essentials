{
  "nbformat": 4,
  "nbformat_minor": 0,
  "metadata": {
    "colab": {
      "name": "func.ipynb",
      "provenance": [],
      "collapsed_sections": [],
      "authorship_tag": "ABX9TyMV3W1vuLyuoKX7T0NC+giL",
      "include_colab_link": true
    },
    "kernelspec": {
      "name": "python3",
      "display_name": "Python 3"
    },
    "language_info": {
      "name": "python"
    }
  },
  "cells": [
    {
      "cell_type": "markdown",
      "metadata": {
        "id": "view-in-github",
        "colab_type": "text"
      },
      "source": [
        "<a href=\"https://colab.research.google.com/github/nidhi-jain-12/Python-Essentials/blob/Main/func.ipynb\" target=\"_parent\"><img src=\"https://colab.research.google.com/assets/colab-badge.svg\" alt=\"Open In Colab\"/></a>"
      ]
    },
    {
      "cell_type": "code",
      "metadata": {
        "id": "P89pyhKk8XwN"
      },
      "source": [
        "#build a function in python for finding number is prime or not\n",
        "#A prime number is a natural number greater than 1 and \n",
        "#that has no positive divisors other than 1 and itself.\n"
      ],
      "execution_count": null,
      "outputs": []
    },
    {
      "cell_type": "code",
      "metadata": {
        "id": "xGaOm_LF86R_"
      },
      "source": [
        "#function\n",
        "def checkPrimeNum(n):\n",
        "          if(n % i==0):\n",
        "                print( n , \"is not prime number\")\n",
        "          elif(n ==1):\n",
        "                print(\"1 is neither prime nor composite\")\n",
        "          elif(n <=0):\n",
        "                print(\"Enter a positive number\")\n",
        "          else:\n",
        "                print( n , \"is a prime number\")           "
      ],
      "execution_count": 52,
      "outputs": []
    },
    {
      "cell_type": "code",
      "metadata": {
        "colab": {
          "base_uri": "https://localhost:8080/"
        },
        "id": "NxatGEeM-_Sb",
        "outputId": "2838f905-8541-4a31-c2fc-1aa54d112151"
      },
      "source": [
        "checkPrimeNum(2)\n"
      ],
      "execution_count": 53,
      "outputs": [
        {
          "output_type": "stream",
          "text": [
            "2 is a prime number\n"
          ],
          "name": "stdout"
        }
      ]
    },
    {
      "cell_type": "code",
      "metadata": {
        "colab": {
          "base_uri": "https://localhost:8080/"
        },
        "id": "K73I37km_L96",
        "outputId": "c9380343-ba15-4c02-f29e-c7265205df0f"
      },
      "source": [
        "checkPrimeNum(1)"
      ],
      "execution_count": 54,
      "outputs": [
        {
          "output_type": "stream",
          "text": [
            "1 is neither prime nor composite\n"
          ],
          "name": "stdout"
        }
      ]
    },
    {
      "cell_type": "code",
      "metadata": {
        "colab": {
          "base_uri": "https://localhost:8080/"
        },
        "id": "4Twk62TDEOKx",
        "outputId": "486ba2ad-fc1d-4b52-96f6-a2f72341ee1a"
      },
      "source": [
        "checkPrimeNum(7)"
      ],
      "execution_count": 55,
      "outputs": [
        {
          "output_type": "stream",
          "text": [
            "7 is a prime number\n"
          ],
          "name": "stdout"
        }
      ]
    },
    {
      "cell_type": "code",
      "metadata": {
        "colab": {
          "base_uri": "https://localhost:8080/"
        },
        "id": "LG3uyMBzEP1z",
        "outputId": "b1203498-ebb0-4d53-fc9d-89521a38506d"
      },
      "source": [
        "checkPrimeNum(90)    "
      ],
      "execution_count": 56,
      "outputs": [
        {
          "output_type": "stream",
          "text": [
            "90 is not prime number\n"
          ],
          "name": "stdout"
        }
      ]
    },
    {
      "cell_type": "code",
      "metadata": {
        "colab": {
          "base_uri": "https://localhost:8080/"
        },
        "id": "x0naE9JuER2M",
        "outputId": "63a4a1a1-cf0c-4d9d-893d-5c1f741fa4e0"
      },
      "source": [
        "checkPrimeNum(12648345793824027)"
      ],
      "execution_count": 58,
      "outputs": [
        {
          "output_type": "stream",
          "text": [
            "12648345793824027 is a prime number\n"
          ],
          "name": "stdout"
        }
      ]
    },
    {
      "cell_type": "code",
      "metadata": {
        "colab": {
          "base_uri": "https://localhost:8080/"
        },
        "id": "8iVSYJITE79L",
        "outputId": "2edd7529-e1fc-4dc8-ceb9-e1c045262148"
      },
      "source": [
        "checkPrimeNum(-9)"
      ],
      "execution_count": 59,
      "outputs": [
        {
          "output_type": "stream",
          "text": [
            "Enter a positive number\n"
          ],
          "name": "stdout"
        }
      ]
    }
  ]
}